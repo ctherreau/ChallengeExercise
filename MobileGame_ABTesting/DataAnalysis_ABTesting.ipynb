{
 "cells": [
  {
   "cell_type": "markdown",
   "id": "f9f2ee62",
   "metadata": {},
   "source": [
    "# Project Overview \n",
    " \n",
    "Project from DataCamp\n",
    "\n",
    "Cookie Cats, developed by Tactile Entertainment, is a popular mobile puzzle game employing the \"connect three\" puzzle mechanic, requiring players to link tiles of matching colors to clear the board and advance through levels. An intriguing feature is the inclusion of melodious singing cats, which adds to its uniqueness.\n",
    "\n",
    "As players advance, they encounter gates that enforce a waiting period before progression or prompt in-app purchases. The objective of this project is to scrutinize the outcomes of an A/B test, wherein the initial gate in Cookie Cats was shifted from level 30 to level 40. The primary focus lies on assessing the repercussions on player retention and game rounds.\n",
    "\n",
    "## Dataset presentation\n",
    "The dataset involves 90 189 players who installed the game during the AB-test's execution. Notable variables include:\n",
    "\n",
    "1. `userid`: A distinct identifier for each player.\n",
    "2. `version`: Denotes whether the player was assigned to the control group (gate_30, level 30 gate) or the test group (gate_40, level 40 gate).\n",
    "3. `sum_gamerounds`: Signifies the count of game rounds undertaken by a player within the initial week following installation.\n",
    "4. `retention_1`: Indicates whether the player revisited and played the game 1 day after installation.\n",
    "5. `retention_7`: Indicates whether the player revisited and played the game 7 days after installation.\n",
    "\n",
    "Players were randomly allocated to either the gate_30 or gate_40 group upon installing the game."
   ]
  },
  {
   "cell_type": "markdown",
   "id": "f82ea802",
   "metadata": {},
   "source": [
    "## Load dataset and first explorations\n"
   ]
  },
  {
   "cell_type": "code",
   "execution_count": 269,
   "id": "04e83cba",
   "metadata": {},
   "outputs": [],
   "source": [
    "import pandas as pd \n",
    "import seaborn as sns\n",
    "import matplotlib.pyplot as plt"
   ]
  },
  {
   "cell_type": "code",
   "execution_count": 270,
   "id": "5cd18391",
   "metadata": {},
   "outputs": [],
   "source": [
    "data = pd.read_csv('cookie_cats.csv')"
   ]
  },
  {
   "cell_type": "code",
   "execution_count": 271,
   "id": "f0a886ce",
   "metadata": {},
   "outputs": [
    {
     "name": "stdout",
     "output_type": "stream",
     "text": [
      "Total number of entry  90189\n"
     ]
    }
   ],
   "source": [
    "print('Total number of entry ', len(data))"
   ]
  },
  {
   "cell_type": "markdown",
   "id": "108d0f48",
   "metadata": {},
   "source": [
    "### Usual checks "
   ]
  },
  {
   "cell_type": "code",
   "execution_count": 274,
   "id": "1fd37bf7",
   "metadata": {},
   "outputs": [
    {
     "data": {
      "text/html": [
       "<div>\n",
       "<style scoped>\n",
       "    .dataframe tbody tr th:only-of-type {\n",
       "        vertical-align: middle;\n",
       "    }\n",
       "\n",
       "    .dataframe tbody tr th {\n",
       "        vertical-align: top;\n",
       "    }\n",
       "\n",
       "    .dataframe thead th {\n",
       "        text-align: right;\n",
       "    }\n",
       "</style>\n",
       "<table border=\"1\" class=\"dataframe\">\n",
       "  <thead>\n",
       "    <tr style=\"text-align: right;\">\n",
       "      <th></th>\n",
       "      <th>userid</th>\n",
       "      <th>sum_gamerounds</th>\n",
       "    </tr>\n",
       "  </thead>\n",
       "  <tbody>\n",
       "    <tr>\n",
       "      <th>count</th>\n",
       "      <td>9.018900e+04</td>\n",
       "      <td>90189.000000</td>\n",
       "    </tr>\n",
       "    <tr>\n",
       "      <th>mean</th>\n",
       "      <td>4.998412e+06</td>\n",
       "      <td>51.872457</td>\n",
       "    </tr>\n",
       "    <tr>\n",
       "      <th>std</th>\n",
       "      <td>2.883286e+06</td>\n",
       "      <td>195.050858</td>\n",
       "    </tr>\n",
       "    <tr>\n",
       "      <th>min</th>\n",
       "      <td>1.160000e+02</td>\n",
       "      <td>0.000000</td>\n",
       "    </tr>\n",
       "    <tr>\n",
       "      <th>25%</th>\n",
       "      <td>2.512230e+06</td>\n",
       "      <td>5.000000</td>\n",
       "    </tr>\n",
       "    <tr>\n",
       "      <th>50%</th>\n",
       "      <td>4.995815e+06</td>\n",
       "      <td>16.000000</td>\n",
       "    </tr>\n",
       "    <tr>\n",
       "      <th>75%</th>\n",
       "      <td>7.496452e+06</td>\n",
       "      <td>51.000000</td>\n",
       "    </tr>\n",
       "    <tr>\n",
       "      <th>max</th>\n",
       "      <td>9.999861e+06</td>\n",
       "      <td>49854.000000</td>\n",
       "    </tr>\n",
       "  </tbody>\n",
       "</table>\n",
       "</div>"
      ],
      "text/plain": [
       "             userid  sum_gamerounds\n",
       "count  9.018900e+04    90189.000000\n",
       "mean   4.998412e+06       51.872457\n",
       "std    2.883286e+06      195.050858\n",
       "min    1.160000e+02        0.000000\n",
       "25%    2.512230e+06        5.000000\n",
       "50%    4.995815e+06       16.000000\n",
       "75%    7.496452e+06       51.000000\n",
       "max    9.999861e+06    49854.000000"
      ]
     },
     "execution_count": 274,
     "metadata": {},
     "output_type": "execute_result"
    }
   ],
   "source": [
    "data.describe()"
   ]
  },
  {
   "cell_type": "code",
   "execution_count": 282,
   "id": "10d69a88",
   "metadata": {},
   "outputs": [
    {
     "name": "stdout",
     "output_type": "stream",
     "text": [
      "no duplicated data\n",
      "no null entry in column userid\n",
      "no null entry in column version\n",
      "no null entry in column sum_gamerounds\n",
      "no null entry in column retention_1\n",
      "no null entry in column retention_7\n"
     ]
    }
   ],
   "source": [
    "if data.duplicated().sum() == 0 : \n",
    "    print('no duplicated data')\n",
    "else :\n",
    "    print(data.duplicated().sum(), 'rows are duplicated : remove them!')\n",
    "    \n",
    "nullvalue=data.isnull().sum()\n",
    "for i in range(len(nullvalue)): \n",
    "    if  nullvalue[0]== 0 : \n",
    "        print('no null entry in column', nullvalue.index[i])\n",
    "    else :\n",
    "        print(nullvalue[0], 'row with null value in column', nullvalue.index[i] ,'explore it !')\n",
    "    \n",
    "    \n",
    "    "
   ]
  },
  {
   "cell_type": "markdown",
   "id": "a2a3fe0a",
   "metadata": {},
   "source": [
    "### Explore outlier"
   ]
  },
  {
   "cell_type": "code",
   "execution_count": 231,
   "id": "dac40867",
   "metadata": {},
   "outputs": [
    {
     "data": {
      "text/html": [
       "<div>\n",
       "<style scoped>\n",
       "    .dataframe tbody tr th:only-of-type {\n",
       "        vertical-align: middle;\n",
       "    }\n",
       "\n",
       "    .dataframe tbody tr th {\n",
       "        vertical-align: top;\n",
       "    }\n",
       "\n",
       "    .dataframe thead tr th {\n",
       "        text-align: left;\n",
       "    }\n",
       "\n",
       "    .dataframe thead tr:last-of-type th {\n",
       "        text-align: right;\n",
       "    }\n",
       "</style>\n",
       "<table border=\"1\" class=\"dataframe\">\n",
       "  <thead>\n",
       "    <tr>\n",
       "      <th></th>\n",
       "      <th colspan=\"8\" halign=\"left\">userid</th>\n",
       "      <th colspan=\"8\" halign=\"left\">sum_gamerounds</th>\n",
       "    </tr>\n",
       "    <tr>\n",
       "      <th></th>\n",
       "      <th>count</th>\n",
       "      <th>mean</th>\n",
       "      <th>std</th>\n",
       "      <th>min</th>\n",
       "      <th>25%</th>\n",
       "      <th>50%</th>\n",
       "      <th>75%</th>\n",
       "      <th>max</th>\n",
       "      <th>count</th>\n",
       "      <th>mean</th>\n",
       "      <th>std</th>\n",
       "      <th>min</th>\n",
       "      <th>25%</th>\n",
       "      <th>50%</th>\n",
       "      <th>75%</th>\n",
       "      <th>max</th>\n",
       "    </tr>\n",
       "    <tr>\n",
       "      <th>version</th>\n",
       "      <th></th>\n",
       "      <th></th>\n",
       "      <th></th>\n",
       "      <th></th>\n",
       "      <th></th>\n",
       "      <th></th>\n",
       "      <th></th>\n",
       "      <th></th>\n",
       "      <th></th>\n",
       "      <th></th>\n",
       "      <th></th>\n",
       "      <th></th>\n",
       "      <th></th>\n",
       "      <th></th>\n",
       "      <th></th>\n",
       "      <th></th>\n",
       "    </tr>\n",
       "  </thead>\n",
       "  <tbody>\n",
       "    <tr>\n",
       "      <th>gate_30</th>\n",
       "      <td>44700.0</td>\n",
       "      <td>4987563.72</td>\n",
       "      <td>2881026.02</td>\n",
       "      <td>116.0</td>\n",
       "      <td>2505469.0</td>\n",
       "      <td>4983631.0</td>\n",
       "      <td>7481496.75</td>\n",
       "      <td>9999710.0</td>\n",
       "      <td>44700.0</td>\n",
       "      <td>52.46</td>\n",
       "      <td>256.72</td>\n",
       "      <td>0.0</td>\n",
       "      <td>5.0</td>\n",
       "      <td>17.0</td>\n",
       "      <td>50.0</td>\n",
       "      <td>49854.0</td>\n",
       "    </tr>\n",
       "    <tr>\n",
       "      <th>gate_40</th>\n",
       "      <td>45489.0</td>\n",
       "      <td>5009072.58</td>\n",
       "      <td>2885496.21</td>\n",
       "      <td>377.0</td>\n",
       "      <td>2517171.0</td>\n",
       "      <td>5007329.0</td>\n",
       "      <td>7510762.00</td>\n",
       "      <td>9999861.0</td>\n",
       "      <td>45489.0</td>\n",
       "      <td>51.30</td>\n",
       "      <td>103.29</td>\n",
       "      <td>0.0</td>\n",
       "      <td>5.0</td>\n",
       "      <td>16.0</td>\n",
       "      <td>52.0</td>\n",
       "      <td>2640.0</td>\n",
       "    </tr>\n",
       "  </tbody>\n",
       "</table>\n",
       "</div>"
      ],
      "text/plain": [
       "          userid                                                       \\\n",
       "           count        mean         std    min        25%        50%   \n",
       "version                                                                 \n",
       "gate_30  44700.0  4987563.72  2881026.02  116.0  2505469.0  4983631.0   \n",
       "gate_40  45489.0  5009072.58  2885496.21  377.0  2517171.0  5007329.0   \n",
       "\n",
       "                               sum_gamerounds                                 \\\n",
       "                75%        max          count   mean     std  min  25%   50%   \n",
       "version                                                                        \n",
       "gate_30  7481496.75  9999710.0        44700.0  52.46  256.72  0.0  5.0  17.0   \n",
       "gate_40  7510762.00  9999861.0        45489.0  51.30  103.29  0.0  5.0  16.0   \n",
       "\n",
       "                        \n",
       "          75%      max  \n",
       "version                 \n",
       "gate_30  50.0  49854.0  \n",
       "gate_40  52.0   2640.0  "
      ]
     },
     "execution_count": 231,
     "metadata": {},
     "output_type": "execute_result"
    }
   ],
   "source": [
    "data.groupby(['version']).describe().round(2)"
   ]
  },
  {
   "cell_type": "markdown",
   "id": "d13c774c",
   "metadata": {},
   "source": [
    "The maximal value of gamerounds play by users in one week in case of gate_30 group is very high (almost 50 000 rounds in one week). \n",
    "\n",
    "Let's visualize it : "
   ]
  },
  {
   "cell_type": "code",
   "execution_count": 283,
   "id": "183a1455",
   "metadata": {},
   "outputs": [
    {
     "data": {
      "image/png": "[encoded data removed]",
      "text/plain": [
       "<Figure size 1000x800 with 1 Axes>"
      ]
     },
     "metadata": {},
     "output_type": "display_data"
    }
   ],
   "source": [
    "\n",
    "plt.figure(figsize=(10,8))\n",
    "ax = sns.boxplot(data=data, x='version', y='sum_gamerounds')\n",
    "plt.title('Game rounds distribution by version')\n",
    "plt.ylabel('Game rounds played')\n",
    "plt.xlabel('Version')\n",
    "plt.show()"
   ]
  },
  {
   "cell_type": "markdown",
   "id": "f7837628",
   "metadata": {},
   "source": [
    "It looks like an outlier, probably due to a bug in the game. We will remove it. "
   ]
  },
  {
   "cell_type": "code",
   "execution_count": 284,
   "id": "bf00c0f9",
   "metadata": {},
   "outputs": [],
   "source": [
    "data=data[data.sum_gamerounds<20000]"
   ]
  },
  {
   "cell_type": "code",
   "execution_count": 285,
   "id": "23b44b06",
   "metadata": {},
   "outputs": [
    {
     "data": {
      "image/png": "[encoded data removed]",
      "text/plain": [
       "<Figure size 1000x800 with 1 Axes>"
      ]
     },
     "metadata": {},
     "output_type": "display_data"
    }
   ],
   "source": [
    "# Let's visualize our statitical information \n",
    "plt.figure(figsize=(10,8))\n",
    "ax = sns.boxplot(data=data, x='version', y='sum_gamerounds')\n",
    "plt.title('Game rounds distribution by version')\n",
    "plt.ylabel('Game rounds played')\n",
    "plt.xlabel('Version')\n",
    "plt.show()"
   ]
  },
  {
   "cell_type": "code",
   "execution_count": 286,
   "id": "bb641cd5",
   "metadata": {},
   "outputs": [
    {
     "data": {
      "text/plain": [
       "3994"
      ]
     },
     "execution_count": 286,
     "metadata": {},
     "output_type": "execute_result"
    }
   ],
   "source": [
    "data[data['sum_gamerounds']==0]['userid'].count()"
   ]
  },
  {
   "cell_type": "markdown",
   "id": "a0115910",
   "metadata": {},
   "source": [
    "There are 3 994 users that didn't play the game after downloading. This can be due to several factors:\n",
    "\n",
    "1. **Installation Mistakes:** Some users might have accidentally downloaded the game or experienced technical issues during installation, leading them to not engage further.\n",
    "\n",
    "2. **Limited Interest:** Users might have initially shown interest in the game but upon downloading, found that it did not align with their preferences or expectations.\n",
    "\n",
    "3. **Initial Impression:** The game's initial user experience, graphics, or gameplay might not have resonated with these users, resulting in disinterest.\n",
    "\n",
    "4. **Device Compatibility:** Compatibility issues with certain devices or operating systems might have prevented these users from playing the game.\n",
    "\n",
    "5. **External Factors:** Real-life commitments, lack of time, or unforeseen circumstances could have prevented users from engaging with the game.\n",
    "\n",
    "6. **Competition:** Users might have been engaged with other games or activities, leading them to prioritize those over playing this particular game.\n",
    "\n",
    "7. **Download for Future Use:** Some users might have downloaded the game with the intention of playing it at a later time, but never got around to it.\n",
    "\n",
    "8. **Advertising and Marketing:** If the game's marketing did not accurately represent the gameplay, users might have downloaded it out of curiosity but did not find it engaging enough to continue.\n",
    "\n",
    "\n",
    "We remove those players."
   ]
  },
  {
   "cell_type": "code",
   "execution_count": 287,
   "id": "ffbf133c",
   "metadata": {},
   "outputs": [],
   "source": [
    "data=data[data['sum_gamerounds']>0]"
   ]
  },
  {
   "cell_type": "code",
   "execution_count": 288,
   "id": "c271781a",
   "metadata": {},
   "outputs": [
    {
     "data": {
      "image/png": "[encoded data removed]",
      "text/plain": [
       "<Figure size 1000x800 with 1 Axes>"
      ]
     },
     "metadata": {},
     "output_type": "display_data"
    }
   ],
   "source": [
    "# Let's visualize our statitical information \n",
    "plt.figure(figsize=(10,8))\n",
    "ax = sns.boxplot(data=data, x='version', y='sum_gamerounds')\n",
    "plt.title('Game rounds distribution by version')\n",
    "plt.ylabel('Game rounds played')\n",
    "plt.xlabel('Version')\n",
    "plt.show()"
   ]
  },
  {
   "cell_type": "code",
   "execution_count": 289,
   "id": "1ca7b652",
   "metadata": {},
   "outputs": [
    {
     "data": {
      "text/html": [
       "<div>\n",
       "<style scoped>\n",
       "    .dataframe tbody tr th:only-of-type {\n",
       "        vertical-align: middle;\n",
       "    }\n",
       "\n",
       "    .dataframe tbody tr th {\n",
       "        vertical-align: top;\n",
       "    }\n",
       "\n",
       "    .dataframe thead tr th {\n",
       "        text-align: left;\n",
       "    }\n",
       "\n",
       "    .dataframe thead tr:last-of-type th {\n",
       "        text-align: right;\n",
       "    }\n",
       "</style>\n",
       "<table border=\"1\" class=\"dataframe\">\n",
       "  <thead>\n",
       "    <tr>\n",
       "      <th></th>\n",
       "      <th colspan=\"8\" halign=\"left\">sum_gamerounds</th>\n",
       "    </tr>\n",
       "    <tr>\n",
       "      <th></th>\n",
       "      <th>count</th>\n",
       "      <th>mean</th>\n",
       "      <th>std</th>\n",
       "      <th>min</th>\n",
       "      <th>25%</th>\n",
       "      <th>50%</th>\n",
       "      <th>75%</th>\n",
       "      <th>max</th>\n",
       "    </tr>\n",
       "    <tr>\n",
       "      <th>version</th>\n",
       "      <th></th>\n",
       "      <th></th>\n",
       "      <th></th>\n",
       "      <th></th>\n",
       "      <th></th>\n",
       "      <th></th>\n",
       "      <th></th>\n",
       "      <th></th>\n",
       "    </tr>\n",
       "  </thead>\n",
       "  <tbody>\n",
       "    <tr>\n",
       "      <th>gate_30</th>\n",
       "      <td>42762.0</td>\n",
       "      <td>53.67</td>\n",
       "      <td>103.74</td>\n",
       "      <td>1.0</td>\n",
       "      <td>6.0</td>\n",
       "      <td>18.0</td>\n",
       "      <td>53.0</td>\n",
       "      <td>2961.0</td>\n",
       "    </tr>\n",
       "    <tr>\n",
       "      <th>gate_40</th>\n",
       "      <td>43432.0</td>\n",
       "      <td>53.73</td>\n",
       "      <td>105.09</td>\n",
       "      <td>1.0</td>\n",
       "      <td>6.0</td>\n",
       "      <td>18.0</td>\n",
       "      <td>55.0</td>\n",
       "      <td>2640.0</td>\n",
       "    </tr>\n",
       "  </tbody>\n",
       "</table>\n",
       "</div>"
      ],
      "text/plain": [
       "        sum_gamerounds                                             \n",
       "                 count   mean     std  min  25%   50%   75%     max\n",
       "version                                                            \n",
       "gate_30        42762.0  53.67  103.74  1.0  6.0  18.0  53.0  2961.0\n",
       "gate_40        43432.0  53.73  105.09  1.0  6.0  18.0  55.0  2640.0"
      ]
     },
     "execution_count": 289,
     "metadata": {},
     "output_type": "execute_result"
    }
   ],
   "source": [
    "data[['sum_gamerounds','version']].groupby(['version']).describe().round(2)"
   ]
  },
  {
   "cell_type": "markdown",
   "id": "be9f1ad7",
   "metadata": {},
   "source": [
    "By removing the outliers, the dataset is now more stable and equitable between the two groups, which will allow us to do A/B testing.\n"
   ]
  },
  {
   "cell_type": "markdown",
   "id": "d3103faa",
   "metadata": {},
   "source": [
    "## Data explorations"
   ]
  },
  {
   "cell_type": "code",
   "execution_count": 290,
   "id": "83ad5a54",
   "metadata": {},
   "outputs": [
    {
     "data": {
      "image/png": "[encoded data removed]",
      "text/plain": [
       "<Figure size 1500x500 with 2 Axes>"
      ]
     },
     "metadata": {},
     "output_type": "display_data"
    }
   ],
   "source": [
    "fig, axes = plt.subplots(1, 2,figsize=(15, 5))\n",
    "\n",
    "sns.countplot(ax=axes[0],data=data, x='retention_1', hue='version', palette='mako')\n",
    "sns.countplot(ax=axes[1],data=data, x='retention_7', hue='version', palette='mako')\n",
    "\n",
    "axes[0].set_ylim(0, 40000)\n",
    "axes[1].set_ylim(0, 40000)\n",
    "plt.show()\n"
   ]
  },
  {
   "cell_type": "markdown",
   "id": "9a03f44c",
   "metadata": {},
   "source": [
    "As expected retention at day 1 is higher (around 46%) than at day 7 (around 19%), independly of the group chosen. "
   ]
  },
  {
   "cell_type": "code",
   "execution_count": 291,
   "id": "01642387",
   "metadata": {},
   "outputs": [],
   "source": [
    "data['retention_1_int'] = data['retention_1']\n",
    "data['retention_1_int']=data['retention_1_int'].replace({True: 1, False: 0})\n",
    "\n",
    "data['retention_7_int'] = data['retention_7']\n",
    "data['retention_7_int']=data['retention_7_int'].replace({True: 1, False: 0})"
   ]
  },
  {
   "cell_type": "code",
   "execution_count": 292,
   "id": "e46542b7",
   "metadata": {},
   "outputs": [],
   "source": [
    "retention_rate = data.groupby('version').agg({'retention_1_int':'mean', 'retention_7_int':'mean'}).reset_index()"
   ]
  },
  {
   "cell_type": "code",
   "execution_count": 293,
   "id": "371a6149",
   "metadata": {},
   "outputs": [
    {
     "data": {
      "text/html": [
       "<div>\n",
       "<style scoped>\n",
       "    .dataframe tbody tr th:only-of-type {\n",
       "        vertical-align: middle;\n",
       "    }\n",
       "\n",
       "    .dataframe tbody tr th {\n",
       "        vertical-align: top;\n",
       "    }\n",
       "\n",
       "    .dataframe thead th {\n",
       "        text-align: right;\n",
       "    }\n",
       "</style>\n",
       "<table border=\"1\" class=\"dataframe\">\n",
       "  <thead>\n",
       "    <tr style=\"text-align: right;\">\n",
       "      <th></th>\n",
       "      <th>version</th>\n",
       "      <th>retention_1_int</th>\n",
       "      <th>retention_7_int</th>\n",
       "    </tr>\n",
       "  </thead>\n",
       "  <tbody>\n",
       "    <tr>\n",
       "      <th>0</th>\n",
       "      <td>gate_30</td>\n",
       "      <td>0.467541</td>\n",
       "      <td>0.198424</td>\n",
       "    </tr>\n",
       "    <tr>\n",
       "      <th>1</th>\n",
       "      <td>gate_40</td>\n",
       "      <td>0.462171</td>\n",
       "      <td>0.190321</td>\n",
       "    </tr>\n",
       "  </tbody>\n",
       "</table>\n",
       "</div>"
      ],
      "text/plain": [
       "   version  retention_1_int  retention_7_int\n",
       "0  gate_30         0.467541         0.198424\n",
       "1  gate_40         0.462171         0.190321"
      ]
     },
     "execution_count": 293,
     "metadata": {},
     "output_type": "execute_result"
    }
   ],
   "source": [
    "retention_rate"
   ]
  },
  {
   "cell_type": "code",
   "execution_count": 294,
   "id": "234d0f26",
   "metadata": {},
   "outputs": [
    {
     "data": {
      "image/png": "[encoded data removed]",
      "text/plain": [
       "<Figure size 640x480 with 1 Axes>"
      ]
     },
     "metadata": {},
     "output_type": "display_data"
    }
   ],
   "source": [
    "retention_rate.plot(x='version',\n",
    "        kind='bar',\n",
    "        stacked=False,\n",
    "        title='')\n",
    "plt.ylim(0,1)\n",
    "plt.show()"
   ]
  },
  {
   "cell_type": "markdown",
   "id": "72d0a180",
   "metadata": {},
   "source": [
    "In the 'gate_30' group, approximately 46.75% of users sustained their engagement one day after installing the game. Conversely, for the 'gate_40' version, around 46.22% of users remained involved. There exists a subtle distinction in the retention rates between the two versions, with 'gate_30' exhibiting a slightly superior rate compared to 'gate_40'.\n",
    "\n",
    "After the span of seven days following game installation, the mean retention rate for the 'gate_30' variant stands at 19.84%, whereas for the 'gate_40' version, it slightly diminishes to 19.03%. This implies that users who navigate through 'gate_30' show a slightly greater inclination to remain active and engaged with the game during the initial week of installation, in comparison to those who navigate through 'gate_40'.\n",
    "\n",
    "The subsequent A/B test aims to determine the statistical significance of this observed variance in retention rates between the 'gate_30' and 'gate_40' groups."
   ]
  },
  {
   "cell_type": "markdown",
   "id": "3d9e0df7",
   "metadata": {},
   "source": [
    "## A/B Test\n",
    "\n",
    "Now, let's perform our A/B Test. To do that, first we need to get our control and test. In this case version 'gate_30' will be our control (A) group while 'gate_40' is our test group (B)"
   ]
  },
  {
   "cell_type": "code",
   "execution_count": 333,
   "id": "72114a19",
   "metadata": {},
   "outputs": [],
   "source": [
    "control = data[data['version']=='gate_30']\n",
    "test = data[data['version']=='gate_40']"
   ]
  },
  {
   "cell_type": "markdown",
   "id": "2a9af5ad",
   "metadata": {},
   "source": [
    "Hypothesis : \n",
    "\n",
    "\n",
    "- Null Hypothesis (HO): There's no statistical significance in the retention rate, it comes from randomness\n",
    "- Alyernative Hypothesis (HA): There's a statistical significance between both average\n",
    "\n",
    "\n",
    "We need to test the normality of the distribution we are looking at. To do it, I used a Shapiro test. If the distribution is normal, we will used z-test for comparing the two group's retention rate. If the distribution is not normal, we will use non-parametric test (in this case Mann Whitney U test)."
   ]
  },
  {
   "cell_type": "code",
   "execution_count": 334,
   "id": "1391fc74",
   "metadata": {},
   "outputs": [],
   "source": [
    "def shapiro_test(data, parameter, name='Control'):\n",
    "    print(name + ' group with parameter', parameter, 'is : ' )\n",
    "    if shapiro(data[parameter])[1]<0.05: \n",
    "        print('    Not normal, use non-parametric test')\n",
    "    else : \n",
    "        print('    Normal distribution, you can use parametric test')\n",
    "    "
   ]
  },
  {
   "cell_type": "code",
   "execution_count": 335,
   "id": "593b6cab",
   "metadata": {},
   "outputs": [
    {
     "name": "stdout",
     "output_type": "stream",
     "text": [
      "Control group with parameter retention_1_int is : \n",
      "    Not normal, use non-parametric test\n",
      "Test group with parameter retention_7_int is : \n",
      "    Not normal, use non-parametric test\n",
      "Control group with parameter retention_1_int is : \n",
      "    Not normal, use non-parametric test\n",
      "Test group with parameter retention_7_int is : \n",
      "    Not normal, use non-parametric test\n"
     ]
    },
    {
     "name": "stderr",
     "output_type": "stream",
     "text": [
      "/root/.pyenv/versions/3.10.6/envs/python_3106/lib/python3.10/site-packages/scipy/stats/_morestats.py:1761: UserWarning: p-value may not be accurate for N > 5000.\n",
      "  warnings.warn(\"p-value may not be accurate for N > 5000.\")\n"
     ]
    }
   ],
   "source": [
    "shapiro_test(control, 'retention_1_int')\n",
    "shapiro_test(control, 'retention_7_int', name='Test')\n",
    "shapiro_test(test, 'retention_1_int')\n",
    "shapiro_test(test, 'retention_7_int', name='Test')"
   ]
  },
  {
   "cell_type": "markdown",
   "id": "cb540cff",
   "metadata": {},
   "source": [
    "The Mann-Whitney U test is a non-parametric statistical test used to compare the distributions of two independent samples. "
   ]
  },
  {
   "cell_type": "code",
   "execution_count": 340,
   "id": "ccb25c94",
   "metadata": {},
   "outputs": [],
   "source": [
    "def manntest(df_control, df_test, param):\n",
    "    # Non-Parametric Test\n",
    "    mtest = stats.mannwhitneyu(df_control[param], df_test[param])[1] \n",
    "\n",
    "    # Result\n",
    "    temp = pd.DataFrame({\n",
    "            \"AB Hypothesis\":[mtest < 0.05], \n",
    "            \"p-value\":[mtest]})\n",
    "\n",
    "    temp[\"AB Hypothesis\"] = np.where(temp[\"AB Hypothesis\"] == False, \"Fail to Reject H0\", \"Reject H0\")\n",
    "    temp[\"Comment\"] = np.where(temp[\"AB Hypothesis\"] == \"Fail to Reject H0\", \"A/B groups are similar!\", \"A/B groups are not similar!\")\n",
    "    temp = temp[[\"AB Hypothesis\", \"p-value\", \"Comment\"]]\n",
    "\n",
    "    return temp"
   ]
  },
  {
   "cell_type": "code",
   "execution_count": 342,
   "id": "4316291b",
   "metadata": {},
   "outputs": [
    {
     "data": {
      "text/html": [
       "<div>\n",
       "<style scoped>\n",
       "    .dataframe tbody tr th:only-of-type {\n",
       "        vertical-align: middle;\n",
       "    }\n",
       "\n",
       "    .dataframe tbody tr th {\n",
       "        vertical-align: top;\n",
       "    }\n",
       "\n",
       "    .dataframe thead th {\n",
       "        text-align: right;\n",
       "    }\n",
       "</style>\n",
       "<table border=\"1\" class=\"dataframe\">\n",
       "  <thead>\n",
       "    <tr style=\"text-align: right;\">\n",
       "      <th></th>\n",
       "      <th>AB Hypothesis</th>\n",
       "      <th>p-value</th>\n",
       "      <th>Comment</th>\n",
       "    </tr>\n",
       "  </thead>\n",
       "  <tbody>\n",
       "    <tr>\n",
       "      <th>0</th>\n",
       "      <td>Fail to Reject H0</td>\n",
       "      <td>0.113974</td>\n",
       "      <td>A/B groups are similar!</td>\n",
       "    </tr>\n",
       "  </tbody>\n",
       "</table>\n",
       "</div>"
      ],
      "text/plain": [
       "       AB Hypothesis   p-value                  Comment\n",
       "0  Fail to Reject H0  0.113974  A/B groups are similar!"
      ]
     },
     "execution_count": 342,
     "metadata": {},
     "output_type": "execute_result"
    }
   ],
   "source": [
    "manntest(control, test,'retention_1_int')"
   ]
  },
  {
   "cell_type": "code",
   "execution_count": 343,
   "id": "7d7a9578",
   "metadata": {},
   "outputs": [
    {
     "data": {
      "text/html": [
       "<div>\n",
       "<style scoped>\n",
       "    .dataframe tbody tr th:only-of-type {\n",
       "        vertical-align: middle;\n",
       "    }\n",
       "\n",
       "    .dataframe tbody tr th {\n",
       "        vertical-align: top;\n",
       "    }\n",
       "\n",
       "    .dataframe thead th {\n",
       "        text-align: right;\n",
       "    }\n",
       "</style>\n",
       "<table border=\"1\" class=\"dataframe\">\n",
       "  <thead>\n",
       "    <tr style=\"text-align: right;\">\n",
       "      <th></th>\n",
       "      <th>AB Hypothesis</th>\n",
       "      <th>p-value</th>\n",
       "      <th>Comment</th>\n",
       "    </tr>\n",
       "  </thead>\n",
       "  <tbody>\n",
       "    <tr>\n",
       "      <th>0</th>\n",
       "      <td>Reject H0</td>\n",
       "      <td>0.002646</td>\n",
       "      <td>A/B groups are not similar!</td>\n",
       "    </tr>\n",
       "  </tbody>\n",
       "</table>\n",
       "</div>"
      ],
      "text/plain": [
       "  AB Hypothesis   p-value                      Comment\n",
       "0     Reject H0  0.002646  A/B groups are not similar!"
      ]
     },
     "execution_count": 343,
     "metadata": {},
     "output_type": "execute_result"
    }
   ],
   "source": [
    "manntest(control, test,'retention_7_int')"
   ]
  },
  {
   "cell_type": "markdown",
   "id": "f4b63454",
   "metadata": {},
   "source": [
    "## Conclusion \n",
    "\n",
    "When assessing day 1 retention, the presence of gates at level 30 or 40 demonstrates minimal impact on the player retention rate. However, as day 7 approaches, the implementation of gates at these levels does indeed affect retention.\n",
    "\n",
    "Since we know the exact value of the 7 day player retention rate for both groups, we can say that the move to increase gate level from 30 to 40 has a negative impact on this specific metric. The difference is slight but it's significant.\n",
    "\n",
    "Based on these findings, I recommend maintaining the gate at level 30.\n"
   ]
  },
  {
   "cell_type": "code",
   "execution_count": null,
   "id": "f5d031da",
   "metadata": {},
   "outputs": [],
   "source": []
  }
 ],
 "metadata": {
  "kernelspec": {
   "display_name": "Python 3 (ipykernel)",
   "language": "python",
   "name": "python3"
  },
  "language_info": {
   "codemirror_mode": {
    "name": "ipython",
    "version": 3
   },
   "file_extension": ".py",
   "mimetype": "text/x-python",
   "name": "python",
   "nbconvert_exporter": "python",
   "pygments_lexer": "ipython3",
   "version": "3.10.6"
  },
  "toc": {
   "base_numbering": 1,
   "nav_menu": {},
   "number_sections": true,
   "sideBar": true,
   "skip_h1_title": true,
   "title_cell": "Table of Contents",
   "title_sidebar": "Contents",
   "toc_cell": false,
   "toc_position": {
    "height": "calc(100% - 180px)",
    "left": "10px",
    "top": "150px",
    "width": "218.267px"
   },
   "toc_section_display": true,
   "toc_window_display": true
  }
 },
 "nbformat": 4,
 "nbformat_minor": 5
}
